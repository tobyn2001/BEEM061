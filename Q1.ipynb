{
 "cells": [
  {
   "cell_type": "code",
   "execution_count": 1,
   "id": "fd5ca626",
   "metadata": {},
   "outputs": [],
   "source": [
    "import json\n",
    "import requests\n",
    "import datetime"
   ]
  },
  {
   "cell_type": "code",
   "execution_count": 2,
   "id": "4e07a9b7",
   "metadata": {
    "scrolled": true
   },
   "outputs": [
    {
     "data": {
      "text/plain": [
       "{'txcount': 559,\n",
       " 'time': '2024-01-08 17:14:44',\n",
       " 'totalFees': 0.00039339000000016,\n",
       " 'confirmations': 441,\n",
       " 'miner': 'taal.com'}"
      ]
     },
     "execution_count": 2,
     "metadata": {},
     "output_type": "execute_result"
    }
   ],
   "source": [
    "#The block height of my transaction.\n",
    "block_height = 826212\n",
    "\n",
    "#Direct to the webpage with my block height.\n",
    "whatsonchain_API = requests.get(f'https://api.whatsonchain.com/v1/bsv/main/block/height/{block_height}')\n",
    "\n",
    "#Store the data of my BSV transaction. \n",
    "block_info = json.loads(whatsonchain_API.text)\n",
    "\n",
    "#Convert the unix timestamp into human readable format.\n",
    "timestamp = datetime.datetime.fromtimestamp(block_info['time'])\n",
    "\n",
    "#Format the timestamp into a specific format.\n",
    "timestamp = timestamp.strftime('%Y-%m-%d %H:%M:%S')\n",
    "\n",
    "#Store the required data in JSON format.\n",
    "block_data = {'txcount': block_info['txcount'],\n",
    "              'time': timestamp,\n",
    "              'totalFees': block_info['totalFees'],\n",
    "              'confirmations': block_info['confirmations'],\n",
    "              'miner': block_info['miner']}\n",
    "\n",
    "#Print the required data\n",
    "block_data"
   ]
  },
  {
   "cell_type": "markdown",
   "id": "82ee812b",
   "metadata": {},
   "source": [
    "\"txcount\" is the transaction count, this refers to the number of individual BSV transactions that have taken place and confirmed in the block.\n",
    "\n",
    "\"time\" represents the exact time that this BSV transaction happens, with indexes of year, month, day, hour, minute and second.\n",
    "\n",
    "\"totalFees\" is the total amount of transaction fees earned by miners when they verified the transaction and added it to the blockchain.\n",
    "\n",
    "\"confirmations\" refers to the number of other transactions that have been added to the same blockchain after this transaction as confirmation blocks, more confirmation blocks suggest that this transaction is more credible.\n",
    "\n",
    "\"miner\" is the entity that successfully verified this transaction and added it as a block to the blockchain.   "
   ]
  }
 ],
 "metadata": {
  "kernelspec": {
   "display_name": "Python 3 (ipykernel)",
   "language": "python",
   "name": "python3"
  },
  "language_info": {
   "codemirror_mode": {
    "name": "ipython",
    "version": 3
   },
   "file_extension": ".py",
   "mimetype": "text/x-python",
   "name": "python",
   "nbconvert_exporter": "python",
   "pygments_lexer": "ipython3",
   "version": "3.11.5"
  }
 },
 "nbformat": 4,
 "nbformat_minor": 5
}
