{
 "cells": [
  {
   "cell_type": "markdown",
   "metadata": {},
   "source": [
    "## 3.1"
   ]
  },
  {
   "cell_type": "markdown",
   "metadata": {},
   "source": [
    "LendingClub is financial services company that operates mainly as providing different types of loans to borrowers through its online platform. Different services are employed during the loan review process:\n",
    "\n",
    "1. The company utilises Streamlit UI as an innovative tool for the loan application process, providing a user-friendly interface for borrowers to complete web applications promptly. Using Streamlit UI gives a straightforward way to conduct machine learning analysis.  \n",
    "\n",
    "2. The online applications undergo assessments using implemented regression models, which consider Factors of the private individuals to assess the risk of lending money to them. The regression models are executed on a web framework (FastAPI) to manage the models efficiently.\n",
    "\n",
    "3. The records of loan requests and responses of are then stored in the Postgres Database. In Suruna's project, the data of all accepted and rejected loans from LendingClub during 2007 to 2018 is extracted from their websites.\n",
    "\n",
    "4. The stored data is valuable because they can be interpreted and analysed using JupyterLab, generating statistical metrics which is beneficial for in-depth analysis. \n",
    "\n",
    "The type of regression model used in this project is logistic. The implementation of Logistic regression enables the prediction of binary classification outcomes, determining whether the private individuals can repay their loans. The linear model derived from each online appliaction is transformed to a sigmoid function which estimates the probability of each outcome. Based on the analysis, the decision of loan approval or rejection can be made, supported by justifications."
   ]
  },
  {
   "cell_type": "markdown",
   "metadata": {},
   "source": [
    "## 3.2"
   ]
  },
  {
   "cell_type": "code",
   "execution_count": 1,
   "metadata": {},
   "outputs": [],
   "source": [
    "import pandas as pd\n",
    "import pickle\n",
    "from sklearn.model_selection import train_test_split\n",
    "from sklearn.preprocessing import MinMaxScaler\n",
    "from sklearn.linear_model import LogisticRegression\n",
    "from sklearn.pipeline import Pipeline\n",
    "from sklearn.metrics import roc_auc_score, roc_curve, accuracy_score\n",
    "import matplotlib.pyplot as plt\n",
    "import seaborn as sns\n",
    "sns.set_style('white')\n",
    "import numpy as np"
   ]
  },
  {
   "cell_type": "markdown",
   "metadata": {},
   "source": [
    "**Data Taken From:** https://www.kaggle.com/wordsforthewise/lending-club </br>\n",
    "**Model is From:** https://www.kaggle.com/benesalvatore/predict-default-using-logisitic-regression"
   ]
  },
  {
   "cell_type": "code",
   "execution_count": 2,
   "metadata": {},
   "outputs": [],
   "source": [
    "features = ['loan_amnt', 'annual_inc', 'term', 'emp_length']"
   ]
  },
  {
   "cell_type": "code",
   "execution_count": 3,
   "metadata": {},
   "outputs": [],
   "source": [
    "a = pd.read_csv('accepted_2007_to_2018Q4.csv.gz', usecols=features+['loan_status'])"
   ]
  },
  {
   "cell_type": "code",
   "execution_count": 4,
   "metadata": {},
   "outputs": [],
   "source": [
    "full_set = a.query(\"loan_status in ('Fully Paid', 'Charged Off')\").copy()"
   ]
  },
  {
   "cell_type": "code",
   "execution_count": 5,
   "metadata": {},
   "outputs": [],
   "source": [
    "full_set = full_set.dropna(subset=['emp_length'])"
   ]
  },
  {
   "cell_type": "code",
   "execution_count": 6,
   "metadata": {},
   "outputs": [
    {
     "data": {
      "text/html": [
       "<div>\n",
       "<style scoped>\n",
       "    .dataframe tbody tr th:only-of-type {\n",
       "        vertical-align: middle;\n",
       "    }\n",
       "\n",
       "    .dataframe tbody tr th {\n",
       "        vertical-align: top;\n",
       "    }\n",
       "\n",
       "    .dataframe thead th {\n",
       "        text-align: right;\n",
       "    }\n",
       "</style>\n",
       "<table border=\"1\" class=\"dataframe\">\n",
       "  <thead>\n",
       "    <tr style=\"text-align: right;\">\n",
       "      <th></th>\n",
       "      <th>loan_amnt</th>\n",
       "      <th>term</th>\n",
       "      <th>emp_length</th>\n",
       "      <th>annual_inc</th>\n",
       "      <th>loan_status</th>\n",
       "    </tr>\n",
       "  </thead>\n",
       "  <tbody>\n",
       "    <tr>\n",
       "      <th>0</th>\n",
       "      <td>3600.0</td>\n",
       "      <td>36 months</td>\n",
       "      <td>10+ years</td>\n",
       "      <td>55000.0</td>\n",
       "      <td>Fully Paid</td>\n",
       "    </tr>\n",
       "    <tr>\n",
       "      <th>1</th>\n",
       "      <td>24700.0</td>\n",
       "      <td>36 months</td>\n",
       "      <td>10+ years</td>\n",
       "      <td>65000.0</td>\n",
       "      <td>Fully Paid</td>\n",
       "    </tr>\n",
       "    <tr>\n",
       "      <th>2</th>\n",
       "      <td>20000.0</td>\n",
       "      <td>60 months</td>\n",
       "      <td>10+ years</td>\n",
       "      <td>63000.0</td>\n",
       "      <td>Fully Paid</td>\n",
       "    </tr>\n",
       "    <tr>\n",
       "      <th>4</th>\n",
       "      <td>10400.0</td>\n",
       "      <td>60 months</td>\n",
       "      <td>3 years</td>\n",
       "      <td>104433.0</td>\n",
       "      <td>Fully Paid</td>\n",
       "    </tr>\n",
       "    <tr>\n",
       "      <th>5</th>\n",
       "      <td>11950.0</td>\n",
       "      <td>36 months</td>\n",
       "      <td>4 years</td>\n",
       "      <td>34000.0</td>\n",
       "      <td>Fully Paid</td>\n",
       "    </tr>\n",
       "  </tbody>\n",
       "</table>\n",
       "</div>"
      ],
      "text/plain": [
       "   loan_amnt        term emp_length  annual_inc loan_status\n",
       "0     3600.0   36 months  10+ years     55000.0  Fully Paid\n",
       "1    24700.0   36 months  10+ years     65000.0  Fully Paid\n",
       "2    20000.0   60 months  10+ years     63000.0  Fully Paid\n",
       "4    10400.0   60 months    3 years    104433.0  Fully Paid\n",
       "5    11950.0   36 months    4 years     34000.0  Fully Paid"
      ]
     },
     "execution_count": 6,
     "metadata": {},
     "output_type": "execute_result"
    }
   ],
   "source": [
    "full_set.head()"
   ]
  },
  {
   "cell_type": "markdown",
   "metadata": {},
   "source": [
    "# Build the model - Logistic Regression"
   ]
  },
  {
   "cell_type": "markdown",
   "metadata": {},
   "source": [
    "1. Transform our Label *loan_status* and other columns"
   ]
  },
  {
   "cell_type": "code",
   "execution_count": 7,
   "metadata": {},
   "outputs": [],
   "source": [
    "full_set['loan_status'] = full_set['loan_status'].replace({'Fully Paid': 1, 'Charged Off': 0})\n",
    "full_set['term'] = full_set['term'].replace({' 36 months': 36, ' 60 months': 60})"
   ]
  },
  {
   "cell_type": "code",
   "execution_count": 8,
   "metadata": {},
   "outputs": [],
   "source": [
    "full_set['emp_length'] = full_set['emp_length'].map(lambda x: x.split(' ')[0])\n",
    "full_set['emp_length'] = full_set['emp_length'].map(lambda x: str(x).replace('+', '').replace('<', '0'))"
   ]
  },
  {
   "cell_type": "markdown",
   "metadata": {},
   "source": [
    "**Build Model**"
   ]
  },
  {
   "cell_type": "code",
   "execution_count": 9,
   "metadata": {},
   "outputs": [],
   "source": [
    "model_features = list(full_set.columns)\n",
    "model_features.remove('loan_status')"
   ]
  },
  {
   "cell_type": "code",
   "execution_count": 10,
   "metadata": {},
   "outputs": [
    {
     "data": {
      "text/html": [
       "<div>\n",
       "<style scoped>\n",
       "    .dataframe tbody tr th:only-of-type {\n",
       "        vertical-align: middle;\n",
       "    }\n",
       "\n",
       "    .dataframe tbody tr th {\n",
       "        vertical-align: top;\n",
       "    }\n",
       "\n",
       "    .dataframe thead th {\n",
       "        text-align: right;\n",
       "    }\n",
       "</style>\n",
       "<table border=\"1\" class=\"dataframe\">\n",
       "  <thead>\n",
       "    <tr style=\"text-align: right;\">\n",
       "      <th></th>\n",
       "      <th>loan_amnt</th>\n",
       "      <th>term</th>\n",
       "      <th>emp_length</th>\n",
       "      <th>annual_inc</th>\n",
       "      <th>loan_status</th>\n",
       "    </tr>\n",
       "  </thead>\n",
       "  <tbody>\n",
       "    <tr>\n",
       "      <th>0</th>\n",
       "      <td>3600.0</td>\n",
       "      <td>36</td>\n",
       "      <td>10</td>\n",
       "      <td>55000.0</td>\n",
       "      <td>1</td>\n",
       "    </tr>\n",
       "    <tr>\n",
       "      <th>1</th>\n",
       "      <td>24700.0</td>\n",
       "      <td>36</td>\n",
       "      <td>10</td>\n",
       "      <td>65000.0</td>\n",
       "      <td>1</td>\n",
       "    </tr>\n",
       "    <tr>\n",
       "      <th>2</th>\n",
       "      <td>20000.0</td>\n",
       "      <td>60</td>\n",
       "      <td>10</td>\n",
       "      <td>63000.0</td>\n",
       "      <td>1</td>\n",
       "    </tr>\n",
       "    <tr>\n",
       "      <th>4</th>\n",
       "      <td>10400.0</td>\n",
       "      <td>60</td>\n",
       "      <td>3</td>\n",
       "      <td>104433.0</td>\n",
       "      <td>1</td>\n",
       "    </tr>\n",
       "    <tr>\n",
       "      <th>5</th>\n",
       "      <td>11950.0</td>\n",
       "      <td>36</td>\n",
       "      <td>4</td>\n",
       "      <td>34000.0</td>\n",
       "      <td>1</td>\n",
       "    </tr>\n",
       "  </tbody>\n",
       "</table>\n",
       "</div>"
      ],
      "text/plain": [
       "   loan_amnt  term emp_length  annual_inc  loan_status\n",
       "0     3600.0    36         10     55000.0            1\n",
       "1    24700.0    36         10     65000.0            1\n",
       "2    20000.0    60         10     63000.0            1\n",
       "4    10400.0    60          3    104433.0            1\n",
       "5    11950.0    36          4     34000.0            1"
      ]
     },
     "execution_count": 10,
     "metadata": {},
     "output_type": "execute_result"
    }
   ],
   "source": [
    "full_set.head()"
   ]
  },
  {
   "cell_type": "code",
   "execution_count": 11,
   "metadata": {},
   "outputs": [],
   "source": [
    "X_train, X_test, y_train, y_test = train_test_split(full_set[model_features],full_set['loan_status'],random_state=42)"
   ]
  },
  {
   "cell_type": "code",
   "execution_count": 12,
   "metadata": {},
   "outputs": [],
   "source": [
    "model = LogisticRegression()\n",
    "scaler = MinMaxScaler()"
   ]
  },
  {
   "cell_type": "code",
   "execution_count": 13,
   "metadata": {},
   "outputs": [],
   "source": [
    "pipeline = Pipeline([('scaler', scaler), ('model', model)])"
   ]
  },
  {
   "cell_type": "code",
   "execution_count": 14,
   "metadata": {},
   "outputs": [
    {
     "data": {
      "text/html": [
       "<style>#sk-container-id-1 {color: black;}#sk-container-id-1 pre{padding: 0;}#sk-container-id-1 div.sk-toggleable {background-color: white;}#sk-container-id-1 label.sk-toggleable__label {cursor: pointer;display: block;width: 100%;margin-bottom: 0;padding: 0.3em;box-sizing: border-box;text-align: center;}#sk-container-id-1 label.sk-toggleable__label-arrow:before {content: \"▸\";float: left;margin-right: 0.25em;color: #696969;}#sk-container-id-1 label.sk-toggleable__label-arrow:hover:before {color: black;}#sk-container-id-1 div.sk-estimator:hover label.sk-toggleable__label-arrow:before {color: black;}#sk-container-id-1 div.sk-toggleable__content {max-height: 0;max-width: 0;overflow: hidden;text-align: left;background-color: #f0f8ff;}#sk-container-id-1 div.sk-toggleable__content pre {margin: 0.2em;color: black;border-radius: 0.25em;background-color: #f0f8ff;}#sk-container-id-1 input.sk-toggleable__control:checked~div.sk-toggleable__content {max-height: 200px;max-width: 100%;overflow: auto;}#sk-container-id-1 input.sk-toggleable__control:checked~label.sk-toggleable__label-arrow:before {content: \"▾\";}#sk-container-id-1 div.sk-estimator input.sk-toggleable__control:checked~label.sk-toggleable__label {background-color: #d4ebff;}#sk-container-id-1 div.sk-label input.sk-toggleable__control:checked~label.sk-toggleable__label {background-color: #d4ebff;}#sk-container-id-1 input.sk-hidden--visually {border: 0;clip: rect(1px 1px 1px 1px);clip: rect(1px, 1px, 1px, 1px);height: 1px;margin: -1px;overflow: hidden;padding: 0;position: absolute;width: 1px;}#sk-container-id-1 div.sk-estimator {font-family: monospace;background-color: #f0f8ff;border: 1px dotted black;border-radius: 0.25em;box-sizing: border-box;margin-bottom: 0.5em;}#sk-container-id-1 div.sk-estimator:hover {background-color: #d4ebff;}#sk-container-id-1 div.sk-parallel-item::after {content: \"\";width: 100%;border-bottom: 1px solid gray;flex-grow: 1;}#sk-container-id-1 div.sk-label:hover label.sk-toggleable__label {background-color: #d4ebff;}#sk-container-id-1 div.sk-serial::before {content: \"\";position: absolute;border-left: 1px solid gray;box-sizing: border-box;top: 0;bottom: 0;left: 50%;z-index: 0;}#sk-container-id-1 div.sk-serial {display: flex;flex-direction: column;align-items: center;background-color: white;padding-right: 0.2em;padding-left: 0.2em;position: relative;}#sk-container-id-1 div.sk-item {position: relative;z-index: 1;}#sk-container-id-1 div.sk-parallel {display: flex;align-items: stretch;justify-content: center;background-color: white;position: relative;}#sk-container-id-1 div.sk-item::before, #sk-container-id-1 div.sk-parallel-item::before {content: \"\";position: absolute;border-left: 1px solid gray;box-sizing: border-box;top: 0;bottom: 0;left: 50%;z-index: -1;}#sk-container-id-1 div.sk-parallel-item {display: flex;flex-direction: column;z-index: 1;position: relative;background-color: white;}#sk-container-id-1 div.sk-parallel-item:first-child::after {align-self: flex-end;width: 50%;}#sk-container-id-1 div.sk-parallel-item:last-child::after {align-self: flex-start;width: 50%;}#sk-container-id-1 div.sk-parallel-item:only-child::after {width: 0;}#sk-container-id-1 div.sk-dashed-wrapped {border: 1px dashed gray;margin: 0 0.4em 0.5em 0.4em;box-sizing: border-box;padding-bottom: 0.4em;background-color: white;}#sk-container-id-1 div.sk-label label {font-family: monospace;font-weight: bold;display: inline-block;line-height: 1.2em;}#sk-container-id-1 div.sk-label-container {text-align: center;}#sk-container-id-1 div.sk-container {/* jupyter's `normalize.less` sets `[hidden] { display: none; }` but bootstrap.min.css set `[hidden] { display: none !important; }` so we also need the `!important` here to be able to override the default hidden behavior on the sphinx rendered scikit-learn.org. See: https://github.com/scikit-learn/scikit-learn/issues/21755 */display: inline-block !important;position: relative;}#sk-container-id-1 div.sk-text-repr-fallback {display: none;}</style><div id=\"sk-container-id-1\" class=\"sk-top-container\"><div class=\"sk-text-repr-fallback\"><pre>Pipeline(steps=[(&#x27;scaler&#x27;, MinMaxScaler()), (&#x27;model&#x27;, LogisticRegression())])</pre><b>In a Jupyter environment, please rerun this cell to show the HTML representation or trust the notebook. <br />On GitHub, the HTML representation is unable to render, please try loading this page with nbviewer.org.</b></div><div class=\"sk-container\" hidden><div class=\"sk-item sk-dashed-wrapped\"><div class=\"sk-label-container\"><div class=\"sk-label sk-toggleable\"><input class=\"sk-toggleable__control sk-hidden--visually\" id=\"sk-estimator-id-1\" type=\"checkbox\" ><label for=\"sk-estimator-id-1\" class=\"sk-toggleable__label sk-toggleable__label-arrow\">Pipeline</label><div class=\"sk-toggleable__content\"><pre>Pipeline(steps=[(&#x27;scaler&#x27;, MinMaxScaler()), (&#x27;model&#x27;, LogisticRegression())])</pre></div></div></div><div class=\"sk-serial\"><div class=\"sk-item\"><div class=\"sk-estimator sk-toggleable\"><input class=\"sk-toggleable__control sk-hidden--visually\" id=\"sk-estimator-id-2\" type=\"checkbox\" ><label for=\"sk-estimator-id-2\" class=\"sk-toggleable__label sk-toggleable__label-arrow\">MinMaxScaler</label><div class=\"sk-toggleable__content\"><pre>MinMaxScaler()</pre></div></div></div><div class=\"sk-item\"><div class=\"sk-estimator sk-toggleable\"><input class=\"sk-toggleable__control sk-hidden--visually\" id=\"sk-estimator-id-3\" type=\"checkbox\" ><label for=\"sk-estimator-id-3\" class=\"sk-toggleable__label sk-toggleable__label-arrow\">LogisticRegression</label><div class=\"sk-toggleable__content\"><pre>LogisticRegression()</pre></div></div></div></div></div></div></div>"
      ],
      "text/plain": [
       "Pipeline(steps=[('scaler', MinMaxScaler()), ('model', LogisticRegression())])"
      ]
     },
     "execution_count": 14,
     "metadata": {},
     "output_type": "execute_result"
    }
   ],
   "source": [
    "pipeline.fit(X_train, y_train)"
   ]
  },
  {
   "cell_type": "markdown",
   "metadata": {},
   "source": [
    "**Test Model**"
   ]
  },
  {
   "cell_type": "code",
   "execution_count": 15,
   "metadata": {},
   "outputs": [
    {
     "name": "stdout",
     "output_type": "stream",
     "text": [
      "ROC-AUC-score:  0.634209472479741\n"
     ]
    },
    {
     "data": {
      "image/png": "[encoded data removed]",
      "text/plain": [
       "<Figure size 640x480 with 1 Axes>"
      ]
     },
     "metadata": {},
     "output_type": "display_data"
    }
   ],
   "source": [
    "test_probas = pipeline.predict_proba(X_test)[:,1]\n",
    "\n",
    "fpr, tpr, tresholds = roc_curve(y_test, test_probas)\n",
    "plt.plot(fpr, tpr, color='red')\n",
    "plt.title('ROC')\n",
    "plt.xlabel('FPR')\n",
    "plt.ylabel('TPR')\n",
    "plt.grid()\n",
    "\n",
    "print('ROC-AUC-score: ', roc_auc_score(y_test, test_probas))"
   ]
  },
  {
   "cell_type": "code",
   "execution_count": 16,
   "metadata": {},
   "outputs": [],
   "source": [
    "def _compute_accuracy_for_thresholds(data: pd.core.frame.DataFrame):\n",
    "    \"\"\"\n",
    "    Compute Classifier's Accuracy for various thresholds\n",
    "    \"\"\"\n",
    "    \n",
    "    thresholds = np.linspace(0, 1, 100)\n",
    "    \n",
    "    accuracies = []\n",
    "    \n",
    "    for threshold in thresholds:\n",
    "        preds = data['preds'].map(lambda x: 1 if x > threshold else 0)\n",
    "        accuracy_ = accuracy_score(data['labels'].values, preds)\n",
    "        accuracies.append(accuracy_)\n",
    "    \n",
    "    return accuracies, thresholds"
   ]
  },
  {
   "cell_type": "code",
   "execution_count": 17,
   "metadata": {},
   "outputs": [],
   "source": [
    "X_test['preds'] = test_probas\n",
    "X_test['labels'] = y_test"
   ]
  },
  {
   "cell_type": "code",
   "execution_count": 18,
   "metadata": {},
   "outputs": [],
   "source": [
    "accuracies, thresholds = _compute_accuracy_for_thresholds(X_test)"
   ]
  },
  {
   "cell_type": "code",
   "execution_count": 19,
   "metadata": {},
   "outputs": [
    {
     "data": {
      "image/png": "[encoded data removed]",
      "text/plain": [
       "<Figure size 640x480 with 1 Axes>"
      ]
     },
     "metadata": {},
     "output_type": "display_data"
    }
   ],
   "source": [
    "plt.plot(thresholds.reshape(-1, 1), accuracies, label='Thresholds')\n",
    "plt.axhline(\n",
    "    (X_test['labels'].sum()) / len(X_test), color='red', label='No Model Accuracy')\n",
    "plt.grid()\n",
    "plt.title('Accuracy for various Thresholds')\n",
    "plt.xlabel('Threshold')\n",
    "plt.ylabel('Accuracy of Predictions')\n",
    "plt.legend()\n",
    "plt.show()"
   ]
  },
  {
   "cell_type": "code",
   "execution_count": 20,
   "metadata": {},
   "outputs": [
    {
     "data": {
      "text/plain": [
       "0.7393148089674771"
      ]
     },
     "execution_count": 20,
     "metadata": {},
     "output_type": "execute_result"
    }
   ],
   "source": [
    "accuracy_score(X_test['labels'].values, list(map(lambda x: 1 if x > 0.7 else 0, X_test['preds'])))"
   ]
  },
  {
   "cell_type": "markdown",
   "metadata": {},
   "source": [
    "Line 1: features = ['loan_amnt', 'annual_inc', 'term', 'emp_length']\n",
    "Description: This line creates a list named \"features\" and with the name of columns: 'loan amut', 'annual inc', 'term' and 'emp length'.\n",
    "\n",
    "Line 2: a = pd.read_csv('accepted_2007_to_2018Q4.csv.gz', usecols=features+['loan_status'])\n",
    "Description: This line uses package pandas to read the compressed file of accepted loans from 2007 to 2018, and only read specific columns of the database: columns from the list of features and \"loan status\". Store this extracted dataframe as \"a\".\n",
    "\n",
    "Line 3: full_set = a.query(\"loan_status in ('Fully Paid', 'Charged Off')\").copy()\n",
    "Description: This line copies the whole dataframe of \"a\" at first, then select only the rows with loan status of \"fully paid\" or \"charged off\" and stored in \"full_set\". \n",
    "\n",
    "Line 4: full_set = full_set.dropna(subset=['emp_length'])\n",
    "Description: This line removes rows from the column \"emp length\" of \"full_set\" which have missing values, then stores the remaining entries as the original dataframe \"full_set\".\n",
    "\n",
    "Line 5: full_set['loan_status'] = full_set['loan_status'].replace({'Fully Paid': 1, 'Charged Off': 0})\n",
    "Description: This line replaces the values of the column \"loan status\": \"fully paid\" with categorical variable 1, and \"charged off\" with 0, respectively. \n",
    "\n",
    "Line 6: full_set['term'] = full_set['term'].replace({' 36 months': 36, ' 60 months': 60})\n",
    "Description: This line replaces the values of the column \"term: \"36 months\" with \"36\", and \"60 months\" with \"60\", respectively. \n",
    "\n",
    "Line 7: full_set['emp_length'] = full_set['emp_length'].map(lambda x: x.split(' ')[0])\n",
    "Description: This line uses the lambda function to check each entry of the column \"emp length\" separately, each entry is treated as x, the function returns the first part of each x after splitting using space as a separator.\n",
    "\n",
    "Line 8: full_set['emp_length'] = full_set['emp_length'].map(lambda x: str(x).replace('+', '').replace('<', '0'))\n",
    "Description: This line uses the lambda function to check each entry of the column \"emp length\" separately, each entry is treated as x and transformed as a string, the function replaces any character \"+\" with a space as a separator, or any character \"<\" with \"0\".\n",
    "\n",
    "Line 9: model_features = list(full_set.columns)\n",
    "Description: This line creates a variable \"model_features\" that contains a list of columns in the dataframe \"full_set\".\n",
    "\n",
    "Line 10: model_features.remove('loan_status')\n",
    "Description: This line removes the element \"loan_status\" from the list \"model_features\"."
   ]
  },
  {
   "cell_type": "markdown",
   "metadata": {},
   "source": [
    "## 3.3"
   ]
  },
  {
   "cell_type": "markdown",
   "metadata": {},
   "source": [
    "Our machine learning model is decision tree classifier, we will use the same variables as defined in part 3.2. Then we will predict our data (X_test) using the model generated by our training data (X_train and y_train). Finally, we will compare the accuracy of X_test and y_test between Suranas'and our methods. "
   ]
  },
  {
   "cell_type": "code",
   "execution_count": 21,
   "metadata": {},
   "outputs": [],
   "source": [
    "from sklearn.tree import DecisionTreeClassifier"
   ]
  },
  {
   "cell_type": "code",
   "execution_count": 22,
   "metadata": {},
   "outputs": [],
   "source": [
    "#features = ['loan_amnt', 'annual_inc', 'term', 'emp_length']\n",
    "\n",
    "#a = pd.read_csv('accepted_2007_to_2018Q4.csv.gz', usecols=features+['loan_status'])\n",
    "\n",
    "#full_set = a.query(\"loan_status in ('Fully Paid', 'Charged Off')\").copy()\n",
    "\n",
    "#full_set = full_set.dropna(subset=['emp_length'])\n",
    "\n",
    "#full_set.head()\n",
    "\n",
    "#full_set['loan_status'] = full_set['loan_status'].replace({'Fully Paid': 1, 'Charged Off': 0})\n",
    "\n",
    "#full_set['term'] = full_set['term'].replace({'36 months': 36, '60 months': 60})\n",
    "\n",
    "#full_set['emp_length'] = full_set['emp_length'].map(lambda x: x.split(' ')[0])\n",
    "\n",
    "#full_set['emp_length'] = full_set['emp_length'].map(lambda x: str(x).replace('+', '').replace('<', '0'))\n",
    "\n",
    "#model_features = list(full_set.columns)\n",
    "\n",
    "#model_features.remove('loan_status')\n",
    "\n",
    "#full_set.head()\n",
    "\n",
    "#X_train, X_test, y_train, y_test = train_test_split(full_set[model_features],full_set['loan_status'],random_state=42)"
   ]
  },
  {
   "cell_type": "code",
   "execution_count": 23,
   "metadata": {},
   "outputs": [],
   "source": [
    "#Remove the excessive columns from testing data of X.\n",
    "X_test = X_test.drop(columns = ['preds', 'labels'])\n",
    "\n",
    "#Use decision tree classifier as the algorithm for our machine learning model.\n",
    "classifier = DecisionTreeClassifier()\n",
    "\n",
    "#Fit the training data of X and Y.\n",
    "classifier = classifier.fit(X_train, y_train)\n",
    "\n",
    "#Use the decision tree classifier model to generating our testing data of X.\n",
    "x_test_preds = classifier.predict(X_test)\n",
    "\n",
    "#Compare the accuracy between the testing data of X and the actual testing data, Y.\n",
    "accuracy = accuracy_score(y_test, x_test_preds)"
   ]
  },
  {
   "cell_type": "code",
   "execution_count": 24,
   "metadata": {},
   "outputs": [
    {
     "data": {
      "text/plain": [
       "0.7500378907483423"
      ]
     },
     "execution_count": 24,
     "metadata": {},
     "output_type": "execute_result"
    }
   ],
   "source": [
    "accuracy"
   ]
  },
  {
   "cell_type": "markdown",
   "metadata": {},
   "source": [
    "From our model (Decision tree classifier), 75% of our predicted data (X_test) is actually correctly predicted, it is slightly higher than the chosen method (Logistic Regression) in part 3.2."
   ]
  }
 ],
 "metadata": {
  "kernelspec": {
   "display_name": "Python 3 (ipykernel)",
   "language": "python",
   "name": "python3"
  },
  "language_info": {
   "codemirror_mode": {
    "name": "ipython",
    "version": 3
   },
   "file_extension": ".py",
   "mimetype": "text/x-python",
   "name": "python",
   "nbconvert_exporter": "python",
   "pygments_lexer": "ipython3",
   "version": "3.11.5"
  }
 },
 "nbformat": 4,
 "nbformat_minor": 4
}
